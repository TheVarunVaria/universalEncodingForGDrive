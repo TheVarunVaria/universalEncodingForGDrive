{
 "cells": [
  {
   "cell_type": "markdown",
   "metadata": {},
   "source": [
    "### Step one install pydrive"
   ]
  },
  {
   "cell_type": "code",
   "execution_count": 2,
   "metadata": {},
   "outputs": [
    {
     "name": "stdout",
     "output_type": "stream",
     "text": [
      "Collecting pydrive\n",
      "  Downloading PyDrive-1.3.1.tar.gz (987 kB)\n",
      "\u001b[K     |████████████████████████████████| 987 kB 1.2 MB/s eta 0:00:01\n",
      "\u001b[?25hCollecting google-api-python-client>=1.2\n",
      "  Downloading google_api_python_client-1.8.0-py3-none-any.whl (57 kB)\n",
      "\u001b[K     |████████████████████████████████| 57 kB 4.9 MB/s eta 0:00:011\n",
      "\u001b[?25hCollecting oauth2client>=4.0.0\n",
      "  Downloading oauth2client-4.1.3-py2.py3-none-any.whl (98 kB)\n",
      "\u001b[K     |████████████████████████████████| 98 kB 5.3 MB/s eta 0:00:011\n",
      "\u001b[?25hCollecting PyYAML>=3.0\n",
      "  Downloading PyYAML-5.3.1.tar.gz (269 kB)\n",
      "\u001b[K     |████████████████████████████████| 269 kB 14.5 MB/s eta 0:00:01\n",
      "\u001b[?25hCollecting google-api-core<2dev,>=1.13.0\n",
      "  Downloading google_api_core-1.16.0-py2.py3-none-any.whl (70 kB)\n",
      "\u001b[K     |████████████████████████████████| 70 kB 4.6 MB/s eta 0:00:011\n",
      "\u001b[?25hCollecting uritemplate<4dev,>=3.0.0\n",
      "  Downloading uritemplate-3.0.1-py2.py3-none-any.whl (15 kB)\n",
      "Collecting httplib2<1dev,>=0.9.2\n",
      "  Downloading httplib2-0.17.0-py3-none-any.whl (95 kB)\n",
      "\u001b[K     |████████████████████████████████| 95 kB 4.5 MB/s eta 0:00:011\n",
      "\u001b[?25hCollecting google-auth-httplib2>=0.0.3\n",
      "  Downloading google_auth_httplib2-0.0.3-py2.py3-none-any.whl (6.3 kB)\n",
      "Requirement already satisfied: six<2dev,>=1.6.1 in /usr/local/Cellar/jupyterlab/1.2.6/libexec/lib/python3.7/site-packages (from google-api-python-client>=1.2->pydrive) (1.14.0)\n",
      "Collecting google-auth>=1.4.1\n",
      "  Downloading google_auth-1.11.3-py2.py3-none-any.whl (76 kB)\n",
      "\u001b[K     |████████████████████████████████| 76 kB 6.7 MB/s eta 0:00:011\n",
      "\u001b[?25hCollecting rsa>=3.1.4\n",
      "  Downloading rsa-4.0-py2.py3-none-any.whl (38 kB)\n",
      "Collecting pyasn1>=0.1.7\n",
      "  Downloading pyasn1-0.4.8-py2.py3-none-any.whl (77 kB)\n",
      "\u001b[K     |████████████████████████████████| 77 kB 5.9 MB/s eta 0:00:011\n",
      "\u001b[?25hCollecting pyasn1-modules>=0.0.5\n",
      "  Downloading pyasn1_modules-0.2.8-py2.py3-none-any.whl (155 kB)\n",
      "\u001b[K     |████████████████████████████████| 155 kB 4.7 MB/s eta 0:00:01\n",
      "\u001b[?25hRequirement already satisfied: setuptools>=34.0.0 in /usr/local/Cellar/jupyterlab/1.2.6/libexec/lib/python3.7/site-packages (from google-api-core<2dev,>=1.13.0->google-api-python-client>=1.2->pydrive) (45.2.0)\n",
      "Collecting requests<3.0.0dev,>=2.18.0\n",
      "  Downloading requests-2.23.0-py2.py3-none-any.whl (58 kB)\n",
      "\u001b[K     |████████████████████████████████| 58 kB 6.4 MB/s eta 0:00:011\n",
      "\u001b[?25hCollecting googleapis-common-protos<2.0dev,>=1.6.0\n",
      "  Downloading googleapis-common-protos-1.51.0.tar.gz (35 kB)\n",
      "Collecting protobuf>=3.4.0\n",
      "  Downloading protobuf-3.11.3-cp37-cp37m-macosx_10_9_x86_64.whl (1.3 MB)\n",
      "\u001b[K     |████████████████████████████████| 1.3 MB 7.4 MB/s eta 0:00:01\n",
      "\u001b[?25hCollecting pytz\n",
      "  Using cached pytz-2019.3-py2.py3-none-any.whl (509 kB)\n",
      "Collecting cachetools<5.0,>=2.0.0\n",
      "  Downloading cachetools-4.0.0-py3-none-any.whl (10 kB)\n",
      "Collecting urllib3!=1.25.0,!=1.25.1,<1.26,>=1.21.1\n",
      "  Downloading urllib3-1.25.8-py2.py3-none-any.whl (125 kB)\n",
      "\u001b[K     |████████████████████████████████| 125 kB 33.9 MB/s eta 0:00:01\n",
      "\u001b[?25hCollecting certifi>=2017.4.17\n",
      "  Downloading certifi-2019.11.28-py2.py3-none-any.whl (156 kB)\n",
      "\u001b[K     |████████████████████████████████| 156 kB 11.5 MB/s eta 0:00:01\n",
      "\u001b[?25hCollecting chardet<4,>=3.0.2\n",
      "  Downloading chardet-3.0.4-py2.py3-none-any.whl (133 kB)\n",
      "\u001b[K     |████████████████████████████████| 133 kB 10.7 MB/s eta 0:00:01\n",
      "\u001b[?25hCollecting idna<3,>=2.5\n",
      "  Downloading idna-2.9-py2.py3-none-any.whl (58 kB)\n",
      "\u001b[K     |████████████████████████████████| 58 kB 15.1 MB/s eta 0:00:01\n",
      "\u001b[?25hBuilding wheels for collected packages: pydrive, PyYAML, googleapis-common-protos\n",
      "  Building wheel for pydrive (setup.py) ... \u001b[?25ldone\n",
      "\u001b[?25h  Created wheel for pydrive: filename=PyDrive-1.3.1-py3-none-any.whl size=27435 sha256=2a72648224dc321719eefbb92e37a447d1031130c9b654d09e3e7768cb237bff\n",
      "  Stored in directory: /Users/thevarunvaria/Library/Caches/pip/wheels/57/cc/07/6aac75f5395a224650905accd38c868c2276782a56f1046b7b\n",
      "  Building wheel for PyYAML (setup.py) ... \u001b[?25ldone\n",
      "\u001b[?25h  Created wheel for PyYAML: filename=PyYAML-5.3.1-cp37-cp37m-macosx_10_15_x86_64.whl size=44627 sha256=5f60e458fea37d015d289b7ec3f94937873e9eaffd57a7451c9dd6ceed523808\n",
      "  Stored in directory: /Users/thevarunvaria/Library/Caches/pip/wheels/5e/03/1e/e1e954795d6f35dfc7b637fe2277bff021303bd9570ecea653\n",
      "  Building wheel for googleapis-common-protos (setup.py) ... \u001b[?25ldone\n",
      "\u001b[?25h  Created wheel for googleapis-common-protos: filename=googleapis_common_protos-1.51.0-py3-none-any.whl size=77592 sha256=ea7400164f8227392c601ab176231d8bb33b034cb73d5be1898cedaebe8d16a2\n",
      "  Stored in directory: /Users/thevarunvaria/Library/Caches/pip/wheels/4c/a1/71/5e427276ceeff277fd76878d1b19fbf4587a2845015d86864b\n",
      "Successfully built pydrive PyYAML googleapis-common-protos\n",
      "Installing collected packages: urllib3, certifi, chardet, idna, requests, cachetools, pyasn1, pyasn1-modules, rsa, google-auth, protobuf, googleapis-common-protos, pytz, google-api-core, uritemplate, httplib2, google-auth-httplib2, google-api-python-client, oauth2client, PyYAML, pydrive\n",
      "Successfully installed PyYAML-5.3.1 cachetools-4.0.0 certifi-2019.11.28 chardet-3.0.4 google-api-core-1.16.0 google-api-python-client-1.8.0 google-auth-1.11.3 google-auth-httplib2-0.0.3 googleapis-common-protos-1.51.0 httplib2-0.17.0 idna-2.9 oauth2client-4.1.3 protobuf-3.11.3 pyasn1-0.4.8 pyasn1-modules-0.2.8 pydrive-1.3.1 pytz-2019.3 requests-2.23.0 rsa-4.0 uritemplate-3.0.1 urllib3-1.25.8\n",
      "Note: you may need to restart the kernel to use updated packages.\n"
     ]
    }
   ],
   "source": [
    "pip install pydrive"
   ]
  },
  {
   "cell_type": "code",
   "execution_count": 27,
   "metadata": {},
   "outputs": [
    {
     "name": "stdout",
     "output_type": "stream",
     "text": [
      "Your browser has been opened to visit:\n",
      "\n",
      "    https://accounts.google.com/o/oauth2/auth?client_id=908248397232-6td394vl3rt1t775a6lafadc76f0c7o8.apps.googleusercontent.com&redirect_uri=http%3A%2F%2Flocalhost%3A8080%2F&scope=https%3A%2F%2Fwww.googleapis.com%2Fauth%2Fdrive&access_type=offline&response_type=code\n",
      "\n",
      "Authentication successful.\n"
     ]
    }
   ],
   "source": [
    "\n",
    "from pydrive.auth import GoogleAuth\n",
    "from pydrive.drive import GoogleDrive\n",
    "\n",
    "gauth = GoogleAuth()\n",
    "gauth.LocalWebserverAuth() # client_secrets.json need to be in the same directory as the script\n",
    "drive = GoogleDrive(gauth)"
   ]
  },
  {
   "cell_type": "markdown",
   "metadata": {},
   "source": [
    "\n",
    "### View all folders and file in your Google Drive\n",
    "\n"
   ]
  },
  {
   "cell_type": "code",
   "execution_count": 33,
   "metadata": {},
   "outputs": [
    {
     "name": "stdout",
     "output_type": "stream",
     "text": [
      "Title: Share, ID: 1MlTNw16ePQcocobmw2bMV-sd2lYqmSqJ\n",
      "Title: Colab Notebooks, ID: 1kmA9YW3c7oYav99rONOGAgDw7qkpi0zP\n",
      "Title: SPL Final Project Report, ID: 16-wElJfnkzmWgCrf2wovafoAPmYB7KRCF1vZUndB8X0\n",
      "Title: 4102 Final Project Proposal, ID: 1gvd3DO3y2lx-zdWy5HYuk4_ySSZLlW2NMpXROwGhIGI\n",
      "Title: Machine Learning 8/20, ID: 1rVG6BlNip8aAM2WUyMhB0pfYO95X7-2gH-6V9KOOaJQ\n",
      "Title: Varun Varia Resume - Varun Ketan Varia.pdf, ID: 15CWGCsR_Ueol8Ka99ft-f00IKQc2h_yb\n",
      "Title: Varun Varia Resume.pdf, ID: 18u5086RAFdharBPc757zxl33S31aMcXW\n",
      "Title: Visual Analytics Presentation, ID: 1jMFDdkmYRxdz53wRiaTD9AYIuu-eQlFO\n",
      "Title: Untitled presentation, ID: 1nNoJW3Aih8fYX0kQq5Hkc078ADzKVSzC8K6EqZNaU1o\n",
      "Title: Archive.zip, ID: 1CAfdGVt5d8qeA4tQkZZaq40zEJ3JtfsW\n",
      "Title: Untitled document, ID: 1ZaXSHxAy0Q_jXxlCUTwNkuEOxJlod3TK6hExW5UpO3Y\n",
      "Title: 3/19 ABA, ID: 1mgNCBK1vDP8rRdyd9689TRBp-tl62jbvaanU9lzsW5g\n",
      "Title: VA Tableau Presentation Feedback, ID: 1oZhUq5Gt2ZZsutPgaFjtcfNv7yiy0xNd2eZAB010drg\n",
      "Title: Year.twb, ID: 1MbGf52GiNRbqpXc1xyM8NJSbaFQm5nir\n",
      "Title: Tableau Presentation.pptx, ID: 1vJXpNqlTkUTY2E5ikfcdlTlBYZSYCgyw\n",
      "Title: Untitled document, ID: 1sgmHaoRv_BFd0O71vDeFIfZRLHBrsPVKPNIvjiYG-rI\n",
      "Title: IMG_0767.jpg, ID: 0B_v-2dPUKIMeMl9va3ZiRWNRYTJjVEZJY1BhTXNDLU9NOG9R\n",
      "Title: R Code for Random forest for Reason, ID: 1zQazVeaFO75siAibK00aPQmBV1vPfwsi4KWH-bRrBWI\n",
      "Title: 2 - 19 ABA, ID: 1Ga-TQgp7tiXAPhr31SztA8RlqxHswcpBeTiunjCSmNw\n",
      "Title: Class notes, ID: 1Vqlxbz_m8UhHnqn2o8wGzmkFJeklClCETPuDWDZPMkg\n",
      "Title: 6211 ABA 02-05, ID: 1MAxOhdvM0aWUa9i3Mx4DPHUae-gEgwD880JA6nCoMP0\n",
      "Title: 6211 ABA 01-22, ID: 1OiuANiobNvMIUZTI8RER3njxF88uKLkD5IPHqPnkTL4\n",
      "Title: Class notes, ID: 1MXvOAkThZ3QJRE8ZXtpLpgNir294AOZ-D4-f1iCNiyU\n",
      "Title: 6211 ABA 01-15, ID: 1q9eBcJOznFCHcVrg4407SP-xJVLRN60lbMuTWee1aUA\n",
      "Title: Varun Varia Resume(01.02.2019) - Varun Ketan Varia.pdf, ID: 14BPGsIx23ieUnVFKuj6tpWlGr26KbPih\n",
      "Title: Varun Varia Resume(01.02.2019).pdf, ID: 1D5UKnmFQ2Q0eSp2rkk-cNGQPQPSdN_zr\n",
      "Title: Class notes, ID: 1ud8EB91eRz2TAe49F-oMkpM1kwRSv6or0T8caM_Fz04\n",
      "Title: FRM Tracker, ID: 1jFv2-nR1AnY8NBY0RmHnELTNxv0oHrTu2LHW4UJLkHI\n",
      "Title: Big Data Final Project Report, ID: 1CLNX1gyVjX59MWMLSHFnv-Y49ECcx8ZXpYCnNEaaSi8\n",
      "Title: Report, ID: 1aHEztTAbbApDVEZNuUkk5uF56ylIHIGpXBzXKgQYdOA\n",
      "Title: Report, ID: 1TEe8DGnn3VRc2UA1oMGG1ZN5Bgn_JFoxpd3RQMyIBZs\n",
      "Title: Catalog Spreedsheet, ID: 1HDRyE4jq5HI__xhKlI4vSTmvE5fdLNba525zEqtRoqM\n",
      "Title: Copy of Design Document, ID: 1f_w9ONRBuX2vRsk0q4AhQ7GqWjZjMC4PuL9QfBiUkT4\n",
      "Title: #8 Big Data 08 Nov, ID: 1bgb3WyHagEm1ZyxADuRsdkkh21uOxC78nbT563WJegg\n",
      "Title: SSDI #9 Nov 6, ID: 1mThohaUmwuFAbsP1qofsi0JM_6msqzTlISiTsjFoB0M\n",
      "Title: SSDI #8 Oct 23 , ID: 10smCb4IrejA-AKDL-o4F2eaGX8P0uPt7HzOZ7HCoogE\n",
      "Title: Varun-Varia-Resume - Varun Ketan Varia.pdf, ID: 1EyoQFmmI2hAEbbUf-Lm9dKPLX-SynUgS\n",
      "Title: Varun-Varia-Resume.pdf, ID: 1Itdo6qz1zGpC3geFGmxWt4E94a_pKubR\n",
      "Title: Big Data #7 Nov 1, ID: 1dDptCclX01XFK4pyhI3i8DkvUzG1w9Id_BuOlnpxBQ4\n",
      "Title: Big Data #6 Oct 25, ID: 1uyL84LVV65oNcRokzXmUByCZcjg7lhFgwmgUFc9xTQE\n",
      "Title: 6162 - Midterm Presentation, ID: 1RW0L_Of8-MhsKIBY6W7TivHI9OvPNhhVieiXSXRoPxY\n",
      "Title: Big Data Midterm, ID: 1aCpyT7bQdgMyy8RC0Ktnh34F-_WIJO-L18YOO5N6V4k\n",
      "Title: Big Data #5 Oct 4, ID: 12aAAc38e1up1Vay3esz6o3RJuypyztUbIrkG0jMSDnQ\n",
      "Title: Big Data #4 Sep 27, ID: 1_XVRhC585EK-5qIeSxCzAjZW8HaKyKnNDY9nlv4FPIA\n",
      "Title: Bid Data #3 Sep 20, ID: 1Ei4NrBhrRmvl4biWW2jhAEM3awOQChwbG3MlwTeVzTI\n",
      "Title: KDD Oct 12, ID: 1K3_7Tj05odQFRvsu4PlZ4_kahxNpxbfYvtDMQP6cTSM\n",
      "Title: IS Oct 10, ID: 1AewKUQ95pgjAcYSYfVwItuB-VLzu4QzIehKONr9Fjys\n",
      "Title: SSDI #5 Sept 18, ID: 1-NgxQxZnoJripVlz0pmM9ge-ILOLkZCf4IcE2Qji-MY\n",
      "Title: SSDI #7 Oct 2, ID: 1JVTUsfrrFUb0do8flld4xqMJV744R-KRRU5zm4eIoVw\n",
      "Title: Class notes, ID: 1D8QX9zRkj4c2mQ9-oQzH3Sl5EfJDcOqwpYdgpJZZVmI\n",
      "Title: Fall 2018 Assignment tracker, ID: 1gcuXt84LL8SqCpNNCogUPCN2kYryDfyK3BZOotfxPRg\n",
      "Title: KDD #5 Sep 28, ID: 1erEWkr04tB9owxULHp-ifrgoiIZU5zRliveCIXOmT60\n",
      "Title: Class notes, ID: 18m9t77U8wJUDadSR-OHVIB2iR82o2avvYF_t17Y_HgQ\n",
      "Title: KDD #6 Sep 21, ID: 188nkwuE8QYYIHewvq3c7UJdvkYHk9zAjg2kk1P9MmpE\n",
      "Title: IS #4 Sep 12, ID: 1rxxAdD-AoshuVWG3i3raizvld9ubTqaE3PpY4Dauzm4\n",
      "Title: SSDI #4 Sept 11, ID: 1fA6S_-3kWaXUUsZoxF92p5nsStyR12RkHPq0Li78THA\n",
      "Title: KDD #3 Sep 7, ID: 1WcoK2geqO83NJJTtGOTdgikQKDCS-SAz7JEMR-a9HsE\n",
      "Title: Class notes, ID: 1Syjtb6O9FcP_-8eiGdwIi2ZX4h4GaUa5OJ-AVM92ANo\n",
      "Title: IS #3 Sep 5, ID: 18FKNT5FzXqkE5YEIrkqH7NvQwIKGEG9IaHILyUGG2Dc\n",
      "Title: SSDI #3 Sep 4, ID: 1lmyW2TZy5T0tR_1NQBdiKrRYbAuDnpj-RzJJLSXkJWg\n",
      "Title: Schedule 20th Aug, ID: 1IB7YTZeVD_XfS2-tTbIl2XH1AaEAO5i1jZ9vHQcIHmQ\n",
      "Title: Expense Sharing, ID: 1a1rINwe8ek61MYJOHG5LANmMRBciTHuqTkJTfBH4a_Q\n",
      "Title: Varun_Varia_Resume - Varun Ketan Varia.pdf, ID: 1Hy8egRMOmWIQ7xfsp6HjL_QiEUfcCL5S\n",
      "Title: Varun_Varia_Resume.pdf, ID: 1o0U6Lyczn6WnUXOOyHE0VOS78rAMZ_g-\n",
      "Title: Getting started, ID: 0B_v-2dPUKIMec3RhcnRlcl9maWxlX2Rhc2hlclYw\n",
      "Created file CarPool Summer 2019.csv with mimeType text/csv\n"
     ]
    }
   ],
   "source": [
    "\n",
    "# View all folders and file in your Google Drive\n",
    "fileList = drive.ListFile({'q': \"'root' in parents and trashed=false\"}).GetList()\n",
    "for file in fileList:\n",
    "  print('Title: %s, ID: %s' % (file['title'], file['id']))\n",
    "\n",
    "if(file['title'] == \"Share\"):\n",
    "    #fileID = file['id']\n",
    "    print('fileID')\n",
    "    \n",
    "    \n",
    "file1 = drive.CreateFile({\"mimeType\": \"text/csv\", \"parents\": [{\"kind\": \"drive#fileLink\", \"id\": '1MlTNw16ePQcocobmw2bMV-sd2lYqmSqJ'}]})\n",
    "file1.SetContentFile(\"CarPool Summer 2019.csv\")\n",
    "file1.Upload() # Upload the file.\n",
    "print('Created file %s with mimeType %s' % (file1['title'], file1['mimeType'])) "
   ]
  },
  {
   "cell_type": "markdown",
   "metadata": {},
   "source": [
    "It will also give you the detail of those files/folders. We capture the file ID of the folder you would like to upload files to."
   ]
  },
  {
   "cell_type": "code",
   "execution_count": 40,
   "metadata": {},
   "outputs": [
    {
     "name": "stdout",
     "output_type": "stream",
     "text": [
      "1HivXEDxjHoyiED-LKy4ZcCGihnQrccoF\n"
     ]
    }
   ],
   "source": [
    "fileList = drive.ListFile({'q': \"'1kmA9YW3c7oYav99rONOGAgDw7qkpi0zP' in parents and trashed=false\"}).GetList()\n",
    "for file in fileList:\n",
    "  #print('Title: %s, ID: %s' % (file['title'], file['id']))\n",
    "  if(file['title'] == \"Untitled1.ipynb\"):\n",
    "    fileID = file['id']\n",
    "\n",
    "print(fileID)\n",
    "   # Get the folder ID that you want\n",
    "  #if(file['title'] == \"picture\"):\n",
    "      #fileID = file['id']"
   ]
  },
  {
   "cell_type": "code",
   "execution_count": 35,
   "metadata": {},
   "outputs": [],
   "source": [
    "if(file['title'] == \"Untitled1.ipynb\"):\n",
    "      print(file['id'])"
   ]
  },
  {
   "cell_type": "code",
   "execution_count": 41,
   "metadata": {},
   "outputs": [],
   "source": [
    "from zipfile import ZipFile"
   ]
  },
  {
   "cell_type": "code",
   "execution_count": 42,
   "metadata": {},
   "outputs": [],
   "source": [
    "# Create a ZipFile Object and load sample.zip in it\n",
    "with ZipFile('sample_input.zip', 'r') as zipObj:\n",
    "   # Extract all the contents of zip file in current directory\n",
    "   zipObj.extractall()"
   ]
  },
  {
   "cell_type": "code",
   "execution_count": 43,
   "metadata": {},
   "outputs": [
    {
     "name": "stdout",
     "output_type": "stream",
     "text": [
      "Processing /Users/thevarunvaria/Library/Caches/pip/wheels/96/86/f6/68ab24c23f207c0077381a5e3904b2815136b879538a24b483/nltk-3.4.5-cp37-none-any.whl\n",
      "Requirement already satisfied: six in /usr/local/Cellar/jupyterlab/1.2.6/libexec/lib/python3.7/site-packages (from nltk) (1.14.0)\n",
      "Installing collected packages: nltk\n",
      "Successfully installed nltk-3.4.5\n",
      "Note: you may need to restart the kernel to use updated packages.\n"
     ]
    }
   ],
   "source": [
    "pip install nltk"
   ]
  },
  {
   "cell_type": "code",
   "execution_count": 48,
   "metadata": {},
   "outputs": [
    {
     "ename": "SyntaxError",
     "evalue": "invalid syntax (<ipython-input-48-3c982da1f875>, line 2)",
     "output_type": "error",
     "traceback": [
      "\u001b[0;36m  File \u001b[0;32m\"<ipython-input-48-3c982da1f875>\"\u001b[0;36m, line \u001b[0;32m2\u001b[0m\n\u001b[0;31m    with(open('sample_input', 'r') as in_file):\u001b[0m\n\u001b[0m                                    ^\u001b[0m\n\u001b[0;31mSyntaxError\u001b[0m\u001b[0;31m:\u001b[0m invalid syntax\n"
     ]
    }
   ],
   "source": [
    "import nltk\n",
    "with(open('sample_input.txt', 'r') as in_file):\n",
    "    #text = in_file.read()\n",
    "    #sents = nltk.sent_tokenize(text)"
   ]
  },
  {
   "cell_type": "code",
   "execution_count": 50,
   "metadata": {},
   "outputs": [
    {
     "name": "stdout",
     "output_type": "stream",
     "text": [
      "\n",
      "\"I like my phone\",\n",
      "\"My phone is not good.\",\n",
      "\"Your cellphone looks great.\",\n",
      "\n",
      "\"Will it snow tomorrow?\",\n",
      "\"Recently a lot of hurricanes have hit the US\",\n",
      "\"Global warming is real\",\n",
      "\n",
      "\"An apple a day, keeps the doctors away\",\n",
      "\"Eating strawberries is healthy\",\n",
      "\"Is paleo better than keto?\",\n",
      "\n",
      "\"How old are you?\",\n",
      "\"what is your age?\",\n"
     ]
    }
   ],
   "source": [
    "f = open('sample_input.txt', 'r')\n",
    "\n",
    "for line in f:\n",
    "    print(line.strip())"
   ]
  },
  {
   "cell_type": "code",
   "execution_count": null,
   "metadata": {},
   "outputs": [],
   "source": []
  }
 ],
 "metadata": {
  "kernelspec": {
   "display_name": "Python 3",
   "language": "python",
   "name": "python3"
  },
  "language_info": {
   "codemirror_mode": {
    "name": "ipython",
    "version": 3
   },
   "file_extension": ".py",
   "mimetype": "text/x-python",
   "name": "python",
   "nbconvert_exporter": "python",
   "pygments_lexer": "ipython3",
   "version": "3.7.6"
  }
 },
 "nbformat": 4,
 "nbformat_minor": 4
}
